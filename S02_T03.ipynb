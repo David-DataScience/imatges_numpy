{
 "cells": [
  {
   "cell_type": "markdown",
   "metadata": {},
   "source": [
    "# Nivell 1\n",
    "## -Exercici 1:\n",
    "\n",
    "Crea un np.array d'una dimensió, que inclogui l'almenys 8 nombres sencers, data type int64. Mostra la dimensió i la forma de la matriu."
   ]
  },
  {
   "cell_type": "code",
   "execution_count": 4,
   "metadata": {},
   "outputs": [
    {
     "name": "stdout",
     "output_type": "stream",
     "text": [
      "1\n",
      "(8,)\n"
     ]
    }
   ],
   "source": [
    "import numpy as np\n",
    "arr = np.array([1, 2, 3, 4, 5, 6, 7, 8],dtype='int64')\n",
    "print(arr.ndim)\n",
    "print(arr.shape)"
   ]
  },
  {
   "cell_type": "markdown",
   "metadata": {},
   "source": [
    "## -Exercici 2:\n",
    "De la matriu de l'exercici 1, calcula el valor mitjà dels valors introduïts."
   ]
  },
  {
   "cell_type": "code",
   "execution_count": 5,
   "metadata": {},
   "outputs": [
    {
     "name": "stdout",
     "output_type": "stream",
     "text": [
      "4.5\n"
     ]
    }
   ],
   "source": [
    "average_value = (arr[0]+arr[1]+arr[2]+arr[3]+arr[4]+arr[5]+arr[6]+arr[7])/8\n",
    "print(average_value)"
   ]
  },
  {
   "cell_type": "markdown",
   "metadata": {},
   "source": [
    "## -Exercici 3:\n",
    "Crea una matriu bidimensional amb una forma de 5 x 5. Extreu el valor màxim de la matriu, i els valors màxims de cadascun dels seus eixos."
   ]
  },
  {
   "cell_type": "code",
   "execution_count": 16,
   "metadata": {},
   "outputs": [
    {
     "name": "stdout",
     "output_type": "stream",
     "text": [
      "valor màxim array:  27\n",
      "valor màxim eix 1:  25\n",
      "valor màxim eix 2:  27\n",
      "valor màxim eix 3:  14\n",
      "valor màxim eix 4:  23\n",
      "valor màxim eix 5:  16\n"
     ]
    }
   ],
   "source": [
    "arr2 = np.array([[1, 25, 7, 13, 9],[5, 8, 27, 4, 10],[2, 5, 6, 14, 7],[4, 5, 23, 12, 9],[9, 2, 16, 3, 11]])\n",
    "max_value = np.max(arr2)\n",
    "print('valor màxim array: ', max_value)\n",
    "print('valor màxim eix 1: ',np.max(arr2[0]))\n",
    "print('valor màxim eix 2: ',np.max(arr2[1]))\n",
    "print('valor màxim eix 3: ',np.max(arr2[2]))\n",
    "print('valor màxim eix 4: ',np.max(arr2[3]))\n",
    "print('valor màxim eix 5: ',np.max(arr2[4]))"
   ]
  },
  {
   "cell_type": "markdown",
   "metadata": {},
   "source": [
    "# Nivell 2:\n",
    "## -Exercici 4:\n",
    "Mostreu-me amb exemples de diferents matrius, la regla fonamental de Broadcasting que diu : \"les matrius es poden transmetre / broadcast si les seves dimensions coincideixen o si una de les matrius té una mida d'1\".\n"
   ]
  },
  {
   "cell_type": "code",
   "execution_count": 22,
   "metadata": {},
   "outputs": [
    {
     "name": "stdout",
     "output_type": "stream",
     "text": [
      "[ 2  8 18]\n",
      "[7 8 9]\n",
      "[[  9  50 112  39  99]\n",
      " [ 45  16 432  12 110]\n",
      " [ 18  10  96  42  77]]\n",
      "[[ 5 30 30 25 18]\n",
      " [14 10 43  7 21]\n",
      " [14 27 23 27 16]]\n"
     ]
    }
   ],
   "source": [
    "a1 = np.array([1, 2, 3])\n",
    "b1 = np.array([2, 4, 6])\n",
    "print(a1 * b1)\n",
    "\n",
    "a2 = np.array([1, 2, 3])\n",
    "b2 = np.array([6])\n",
    "print(a2 + b2)\n",
    "\n",
    "a3 = np.array([[1, 25, 7, 13, 9],[5, 8, 27, 4, 10],[2, 5, 6, 14, 7]])\n",
    "b3 = np.array([9, 2, 16, 3, 11])\n",
    "print(a3 * b3)\n",
    "\n",
    "a4 = np.array([[1, 25, 7, 13, 9],[5, 8, 27, 4, 10],[2, 5, 6, 14, 7]])\n",
    "b4 = np.array([[4, 5, 23, 12, 9],[9, 2, 16, 3, 11],[12, 22, 17, 13, 9]])\n",
    "print(a4 + b4)\n"
   ]
  },
  {
   "cell_type": "markdown",
   "metadata": {},
   "source": [
    "## - Exercici 5:\n",
    "Utilitza la Indexació per extreure els valors d'una columna i una fila de la matriu. I suma els seus valors."
   ]
  },
  {
   "cell_type": "code",
   "execution_count": 30,
   "metadata": {},
   "outputs": [
    {
     "name": "stdout",
     "output_type": "stream",
     "text": [
      "[30 16 32  9 12]\n"
     ]
    }
   ],
   "source": [
    "print(arr2[:,1]+arr2[1])"
   ]
  },
  {
   "cell_type": "markdown",
   "metadata": {},
   "source": [
    "## -Exercici 6:\n",
    "Mask la matriu anterior, realitzeu un càlcul booleà vectoritzat, agafant cada element i comprovant si es divideix uniformement per quatre.\n",
    "\n",
    "Això retorna una matriu de mask de la mateixa forma amb els resultats elementals del càlcul."
   ]
  },
  {
   "cell_type": "code",
   "execution_count": 56,
   "metadata": {},
   "outputs": [
    {
     "name": "stdout",
     "output_type": "stream",
     "text": [
      "[[False False False False False]\n",
      " [False  True False  True False]\n",
      " [False False False False False]\n",
      " [ True False False  True False]\n",
      " [False False  True False False]]\n"
     ]
    }
   ],
   "source": [
    "mask = arr2 % 4 == 0\n",
    "print(mask)"
   ]
  },
  {
   "cell_type": "markdown",
   "metadata": {},
   "source": [
    "## - Exercici 7:\n",
    "A continuació, utilitzeu aquesta màscara per indexar a la matriu de números original. Això fa que la matriu perdi la seva forma original, reduint-la a una dimensió, però encara obteniu les dades que esteu cercant."
   ]
  },
  {
   "cell_type": "code",
   "execution_count": null,
   "metadata": {},
   "outputs": [],
   "source": []
  }
 ],
 "metadata": {
  "kernelspec": {
   "display_name": "Python 3",
   "language": "python",
   "name": "python3"
  },
  "language_info": {
   "codemirror_mode": {
    "name": "ipython",
    "version": 3
   },
   "file_extension": ".py",
   "mimetype": "text/x-python",
   "name": "python",
   "nbconvert_exporter": "python",
   "pygments_lexer": "ipython3",
   "version": "3.7.6"
  },
  "toc": {
   "base_numbering": 1,
   "nav_menu": {},
   "number_sections": true,
   "sideBar": true,
   "skip_h1_title": false,
   "title_cell": "Table of Contents",
   "title_sidebar": "Contents",
   "toc_cell": false,
   "toc_position": {},
   "toc_section_display": true,
   "toc_window_display": false
  }
 },
 "nbformat": 4,
 "nbformat_minor": 4
}
